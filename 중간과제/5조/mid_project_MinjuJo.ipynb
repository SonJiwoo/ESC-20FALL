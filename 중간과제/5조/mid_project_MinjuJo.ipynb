{
 "cells": [
  {
   "cell_type": "markdown",
   "metadata": {},
   "source": [
    "## NLP Assignment : Spam Filter\n",
    "### Minju Jo\n",
    "\n",
    "### 1. Import necessary libs and datasets"
   ]
  },
  {
   "cell_type": "code",
   "execution_count": 1,
   "metadata": {},
   "outputs": [],
   "source": [
    "import numpy as np\n",
    "import pandas as pd\n",
    "import urllib.request\n",
    "\n",
    "urllib.request.urlretrieve(\"https://raw.githubusercontent.com/mohitgupta-omg/Kaggle-SMS-Spam-Collection-Dataset-/master/spam.csv\", filename=\"spam.csv\")\n",
    "data = pd.read_csv('spam.csv', encoding='latin1')\n",
    "\n",
    "import torch\n",
    "from torch import nn, optim\n",
    "from torch.utils.data import Dataset, DataLoader"
   ]
  },
  {
   "cell_type": "code",
   "execution_count": 2,
   "metadata": {},
   "outputs": [
    {
     "name": "stdout",
     "output_type": "stream",
     "text": [
      "Data Shape: (5572, 2)\n",
      "0    4825\n",
      "1     747\n",
      "Name: isSpam, dtype: int64\n"
     ]
    },
    {
     "data": {
      "text/html": [
       "<div>\n",
       "<style scoped>\n",
       "    .dataframe tbody tr th:only-of-type {\n",
       "        vertical-align: middle;\n",
       "    }\n",
       "\n",
       "    .dataframe tbody tr th {\n",
       "        vertical-align: top;\n",
       "    }\n",
       "\n",
       "    .dataframe thead th {\n",
       "        text-align: right;\n",
       "    }\n",
       "</style>\n",
       "<table border=\"1\" class=\"dataframe\">\n",
       "  <thead>\n",
       "    <tr style=\"text-align: right;\">\n",
       "      <th></th>\n",
       "      <th>text</th>\n",
       "      <th>isSpam</th>\n",
       "    </tr>\n",
       "  </thead>\n",
       "  <tbody>\n",
       "    <tr>\n",
       "      <th>0</th>\n",
       "      <td>Go until jurong point, crazy.. Available only ...</td>\n",
       "      <td>0</td>\n",
       "    </tr>\n",
       "    <tr>\n",
       "      <th>1</th>\n",
       "      <td>Ok lar... Joking wif u oni...</td>\n",
       "      <td>0</td>\n",
       "    </tr>\n",
       "    <tr>\n",
       "      <th>2</th>\n",
       "      <td>Free entry in 2 a wkly comp to win FA Cup fina...</td>\n",
       "      <td>1</td>\n",
       "    </tr>\n",
       "    <tr>\n",
       "      <th>3</th>\n",
       "      <td>U dun say so early hor... U c already then say...</td>\n",
       "      <td>0</td>\n",
       "    </tr>\n",
       "    <tr>\n",
       "      <th>4</th>\n",
       "      <td>Nah I don't think he goes to usf, he lives aro...</td>\n",
       "      <td>0</td>\n",
       "    </tr>\n",
       "  </tbody>\n",
       "</table>\n",
       "</div>"
      ],
      "text/plain": [
       "                                                text  isSpam\n",
       "0  Go until jurong point, crazy.. Available only ...       0\n",
       "1                      Ok lar... Joking wif u oni...       0\n",
       "2  Free entry in 2 a wkly comp to win FA Cup fina...       1\n",
       "3  U dun say so early hor... U c already then say...       0\n",
       "4  Nah I don't think he goes to usf, he lives aro...       0"
      ]
     },
     "execution_count": 2,
     "metadata": {},
     "output_type": "execute_result"
    }
   ],
   "source": [
    "del data['Unnamed: 2']\n",
    "del data['Unnamed: 3']\n",
    "del data['Unnamed: 4']\n",
    "\n",
    "data['v1'] = data['v1'].replace(['ham','spam'],[0,1])\n",
    "data['text'] = data['v2']\n",
    "data['isSpam'] = data['v1']\n",
    "\n",
    "del data['v1'], data['v2']\n",
    "\n",
    "print(f'Data Shape: {data.shape}')\n",
    "# imbalanced data\n",
    "print(data['isSpam'].value_counts())\n",
    "data.head()"
   ]
  },
  {
   "cell_type": "markdown",
   "metadata": {},
   "source": [
    "### 2. Train, Test Split"
   ]
  },
  {
   "cell_type": "code",
   "execution_count": 3,
   "metadata": {},
   "outputs": [
    {
     "name": "stdout",
     "output_type": "stream",
     "text": [
      "5014 558\n"
     ]
    }
   ],
   "source": [
    "from sklearn.model_selection import train_test_split\n",
    "\n",
    "X, y = data['text'], data['isSpam']\n",
    "X_train, X_test, y_train, y_test = train_test_split(X, y, random_state=0,\n",
    "                                                   stratify=y, test_size=0.1)\n",
    "\n",
    "print(len(X_train), len(X_test))"
   ]
  },
  {
   "cell_type": "code",
   "execution_count": 4,
   "metadata": {},
   "outputs": [
    {
     "data": {
      "text/plain": [
       "0    4342\n",
       "1     672\n",
       "Name: isSpam, dtype: int64"
      ]
     },
     "execution_count": 4,
     "metadata": {},
     "output_type": "execute_result"
    }
   ],
   "source": [
    "y_train.value_counts()"
   ]
  },
  {
   "cell_type": "markdown",
   "metadata": {},
   "source": [
    "### 3. Preprocessing"
   ]
  },
  {
   "cell_type": "code",
   "execution_count": 5,
   "metadata": {},
   "outputs": [],
   "source": [
    "import matplotlib.pyplot as plt\n",
    "import seaborn as sns"
   ]
  },
  {
   "cell_type": "code",
   "execution_count": 6,
   "metadata": {},
   "outputs": [
    {
     "data": {
      "text/html": [
       "<div>\n",
       "<style scoped>\n",
       "    .dataframe tbody tr th:only-of-type {\n",
       "        vertical-align: middle;\n",
       "    }\n",
       "\n",
       "    .dataframe tbody tr th {\n",
       "        vertical-align: top;\n",
       "    }\n",
       "\n",
       "    .dataframe thead th {\n",
       "        text-align: right;\n",
       "    }\n",
       "</style>\n",
       "<table border=\"1\" class=\"dataframe\">\n",
       "  <thead>\n",
       "    <tr style=\"text-align: right;\">\n",
       "      <th></th>\n",
       "      <th>text</th>\n",
       "      <th>isSpam</th>\n",
       "    </tr>\n",
       "  </thead>\n",
       "  <tbody>\n",
       "    <tr>\n",
       "      <th>5448</th>\n",
       "      <td>aight we can pick some up, you open before ton...</td>\n",
       "      <td>0</td>\n",
       "    </tr>\n",
       "    <tr>\n",
       "      <th>1707</th>\n",
       "      <td>Was doing my test earlier. I appreciate you. W...</td>\n",
       "      <td>0</td>\n",
       "    </tr>\n",
       "    <tr>\n",
       "      <th>2117</th>\n",
       "      <td>Wish u many many returns of the day.. Happy bi...</td>\n",
       "      <td>0</td>\n",
       "    </tr>\n",
       "    <tr>\n",
       "      <th>1357</th>\n",
       "      <td>Good afternoon loverboy ! How goes you day ? A...</td>\n",
       "      <td>0</td>\n",
       "    </tr>\n",
       "    <tr>\n",
       "      <th>787</th>\n",
       "      <td>Ever thought about living a good life with a p...</td>\n",
       "      <td>1</td>\n",
       "    </tr>\n",
       "  </tbody>\n",
       "</table>\n",
       "</div>"
      ],
      "text/plain": [
       "                                                   text  isSpam\n",
       "5448  aight we can pick some up, you open before ton...       0\n",
       "1707  Was doing my test earlier. I appreciate you. W...       0\n",
       "2117  Wish u many many returns of the day.. Happy bi...       0\n",
       "1357  Good afternoon loverboy ! How goes you day ? A...       0\n",
       "787   Ever thought about living a good life with a p...       1"
      ]
     },
     "execution_count": 6,
     "metadata": {},
     "output_type": "execute_result"
    }
   ],
   "source": [
    "train = pd.DataFrame(X_train)\n",
    "train[\"isSpam\"] = y_train\n",
    "train.head()"
   ]
  },
  {
   "cell_type": "markdown",
   "metadata": {},
   "source": [
    "#### length of text"
   ]
  },
  {
   "cell_type": "code",
   "execution_count": 7,
   "metadata": {},
   "outputs": [
    {
     "data": {
      "text/html": [
       "<div>\n",
       "<style scoped>\n",
       "    .dataframe tbody tr th:only-of-type {\n",
       "        vertical-align: middle;\n",
       "    }\n",
       "\n",
       "    .dataframe tbody tr th {\n",
       "        vertical-align: top;\n",
       "    }\n",
       "\n",
       "    .dataframe thead th {\n",
       "        text-align: right;\n",
       "    }\n",
       "</style>\n",
       "<table border=\"1\" class=\"dataframe\">\n",
       "  <thead>\n",
       "    <tr style=\"text-align: right;\">\n",
       "      <th></th>\n",
       "      <th>text</th>\n",
       "      <th>isSpam</th>\n",
       "      <th>text_len</th>\n",
       "    </tr>\n",
       "  </thead>\n",
       "  <tbody>\n",
       "    <tr>\n",
       "      <th>5448</th>\n",
       "      <td>aight we can pick some up, you open before ton...</td>\n",
       "      <td>0</td>\n",
       "      <td>51</td>\n",
       "    </tr>\n",
       "    <tr>\n",
       "      <th>1707</th>\n",
       "      <td>Was doing my test earlier. I appreciate you. W...</td>\n",
       "      <td>0</td>\n",
       "      <td>68</td>\n",
       "    </tr>\n",
       "    <tr>\n",
       "      <th>2117</th>\n",
       "      <td>Wish u many many returns of the day.. Happy bi...</td>\n",
       "      <td>0</td>\n",
       "      <td>60</td>\n",
       "    </tr>\n",
       "    <tr>\n",
       "      <th>1357</th>\n",
       "      <td>Good afternoon loverboy ! How goes you day ? A...</td>\n",
       "      <td>0</td>\n",
       "      <td>152</td>\n",
       "    </tr>\n",
       "    <tr>\n",
       "      <th>787</th>\n",
       "      <td>Ever thought about living a good life with a p...</td>\n",
       "      <td>1</td>\n",
       "      <td>129</td>\n",
       "    </tr>\n",
       "  </tbody>\n",
       "</table>\n",
       "</div>"
      ],
      "text/plain": [
       "                                                   text  isSpam  text_len\n",
       "5448  aight we can pick some up, you open before ton...       0        51\n",
       "1707  Was doing my test earlier. I appreciate you. W...       0        68\n",
       "2117  Wish u many many returns of the day.. Happy bi...       0        60\n",
       "1357  Good afternoon loverboy ! How goes you day ? A...       0       152\n",
       "787   Ever thought about living a good life with a p...       1       129"
      ]
     },
     "execution_count": 7,
     "metadata": {},
     "output_type": "execute_result"
    }
   ],
   "source": [
    "train[\"text_len\"] = train[\"text\"].str.len()\n",
    "train.head()"
   ]
  },
  {
   "cell_type": "code",
   "execution_count": 8,
   "metadata": {},
   "outputs": [
    {
     "data": {
      "text/html": [
       "<div>\n",
       "<style scoped>\n",
       "    .dataframe tbody tr th:only-of-type {\n",
       "        vertical-align: middle;\n",
       "    }\n",
       "\n",
       "    .dataframe tbody tr th {\n",
       "        vertical-align: top;\n",
       "    }\n",
       "\n",
       "    .dataframe thead th {\n",
       "        text-align: right;\n",
       "    }\n",
       "</style>\n",
       "<table border=\"1\" class=\"dataframe\">\n",
       "  <thead>\n",
       "    <tr style=\"text-align: right;\">\n",
       "      <th></th>\n",
       "      <th>text_len</th>\n",
       "    </tr>\n",
       "    <tr>\n",
       "      <th>isSpam</th>\n",
       "      <th></th>\n",
       "    </tr>\n",
       "  </thead>\n",
       "  <tbody>\n",
       "    <tr>\n",
       "      <th>0</th>\n",
       "      <td>71.015891</td>\n",
       "    </tr>\n",
       "    <tr>\n",
       "      <th>1</th>\n",
       "      <td>138.398810</td>\n",
       "    </tr>\n",
       "  </tbody>\n",
       "</table>\n",
       "</div>"
      ],
      "text/plain": [
       "          text_len\n",
       "isSpam            \n",
       "0        71.015891\n",
       "1       138.398810"
      ]
     },
     "execution_count": 8,
     "metadata": {},
     "output_type": "execute_result"
    }
   ],
   "source": [
    "train.groupby(\"isSpam\").mean()"
   ]
  },
  {
   "cell_type": "code",
   "execution_count": 9,
   "metadata": {
    "scrolled": true
   },
   "outputs": [
    {
     "data": {
      "text/plain": [
       "<matplotlib.axes._subplots.AxesSubplot at 0x7fc069c04b90>"
      ]
     },
     "execution_count": 9,
     "metadata": {},
     "output_type": "execute_result"
    },
    {
     "data": {
      "image/png": "[encoded data removed]",
      "text/plain": [
       "<Figure size 432x288 with 1 Axes>"
      ]
     },
     "metadata": {
      "needs_background": "light"
     },
     "output_type": "display_data"
    }
   ],
   "source": [
    "sns.distplot(train[\"text_len\"][train[\"isSpam\"] == 0], hist = False, label = \"Ham\")\n",
    "sns.distplot(train[\"text_len\"][train[\"isSpam\"] == 1], hist = False, label = \"Spam\")"
   ]
  },
  {
   "cell_type": "markdown",
   "metadata": {},
   "source": [
    "#### ? rate"
   ]
  },
  {
   "cell_type": "code",
   "execution_count": 10,
   "metadata": {},
   "outputs": [],
   "source": [
    "ham_que = train[\"text\"][train[\"isSpam\"]==0].str.count(\"/?\")/train[\"text\"][train[\"isSpam\"]==0].str.len()\n",
    "spam_que = train[\"text\"][train[\"isSpam\"]==1].str.count(\"/?\")/train[\"text\"][train[\"isSpam\"]==1].str.len()"
   ]
  },
  {
   "cell_type": "code",
   "execution_count": 11,
   "metadata": {},
   "outputs": [
    {
     "data": {
      "text/plain": [
       "1.0238417414318988"
      ]
     },
     "execution_count": 11,
     "metadata": {},
     "output_type": "execute_result"
    }
   ],
   "source": [
    "ham_que.mean()"
   ]
  },
  {
   "cell_type": "code",
   "execution_count": 12,
   "metadata": {},
   "outputs": [
    {
     "data": {
      "text/plain": [
       "1.0080437381261151"
      ]
     },
     "execution_count": 12,
     "metadata": {},
     "output_type": "execute_result"
    }
   ],
   "source": [
    "spam_que.mean()"
   ]
  },
  {
   "cell_type": "markdown",
   "metadata": {},
   "source": [
    "no diff"
   ]
  },
  {
   "cell_type": "markdown",
   "metadata": {},
   "source": [
    "#### ! rate"
   ]
  },
  {
   "cell_type": "code",
   "execution_count": 13,
   "metadata": {},
   "outputs": [],
   "source": [
    "ham_punc = train[\"text\"][train[\"isSpam\"]==0].str.count(\"!\")/train[\"text\"][train[\"isSpam\"]==0].str.len()\n",
    "spam_punc = train[\"text\"][train[\"isSpam\"]==1].str.count(\"!\")/train[\"text\"][train[\"isSpam\"]==1].str.len()"
   ]
  },
  {
   "cell_type": "code",
   "execution_count": 14,
   "metadata": {},
   "outputs": [
    {
     "data": {
      "text/plain": [
       "0.0023606525305321117"
      ]
     },
     "execution_count": 14,
     "metadata": {},
     "output_type": "execute_result"
    }
   ],
   "source": [
    "ham_punc.mean()"
   ]
  },
  {
   "cell_type": "code",
   "execution_count": 15,
   "metadata": {},
   "outputs": [
    {
     "data": {
      "text/plain": [
       "0.005338244766483763"
      ]
     },
     "execution_count": 15,
     "metadata": {},
     "output_type": "execute_result"
    }
   ],
   "source": [
    "spam_punc.mean()"
   ]
  },
  {
   "cell_type": "code",
   "execution_count": 16,
   "metadata": {},
   "outputs": [],
   "source": [
    "train[\"punc\"] = train[\"text\"].str.count(\"!\")"
   ]
  },
  {
   "cell_type": "markdown",
   "metadata": {},
   "source": [
    "#### capital letter rate"
   ]
  },
  {
   "cell_type": "code",
   "execution_count": 17,
   "metadata": {},
   "outputs": [],
   "source": [
    "import re"
   ]
  },
  {
   "cell_type": "code",
   "execution_count": 18,
   "metadata": {},
   "outputs": [],
   "source": [
    "ham_rate = train[\"text\"][train[\"isSpam\"]==0].str.findall(r'[A-Z]').str.len()/train[\"text\"][train[\"isSpam\"]==0].str.len()\n",
    "spam_rate = train[\"text\"][train[\"isSpam\"]==1].str.findall(r'[A-Z]').str.len()/train[\"text\"][train[\"isSpam\"]==1].str.len()"
   ]
  },
  {
   "cell_type": "code",
   "execution_count": 19,
   "metadata": {},
   "outputs": [
    {
     "data": {
      "text/plain": [
       "0.05920248633072524"
      ]
     },
     "execution_count": 19,
     "metadata": {},
     "output_type": "execute_result"
    }
   ],
   "source": [
    "ham_rate.mean()"
   ]
  },
  {
   "cell_type": "code",
   "execution_count": 20,
   "metadata": {},
   "outputs": [
    {
     "data": {
      "text/plain": [
       "0.1115573824148606"
      ]
     },
     "execution_count": 20,
     "metadata": {},
     "output_type": "execute_result"
    }
   ],
   "source": [
    "spam_rate.mean()"
   ]
  },
  {
   "cell_type": "code",
   "execution_count": 21,
   "metadata": {},
   "outputs": [],
   "source": [
    "train[\"cap_rate\"] = train[\"text\"].str.findall(r'[A-Z]').str.len()/train[\"text\"].str.len()"
   ]
  },
  {
   "cell_type": "markdown",
   "metadata": {},
   "source": [
    "#### comparison - tfidf"
   ]
  },
  {
   "cell_type": "code",
   "execution_count": 22,
   "metadata": {},
   "outputs": [],
   "source": [
    "from sklearn.feature_extraction.text import TfidfVectorizer"
   ]
  },
  {
   "cell_type": "code",
   "execution_count": 23,
   "metadata": {},
   "outputs": [],
   "source": [
    "vectorizer = TfidfVectorizer(max_features = 100)\n",
    "vector = vectorizer.fit_transform(train[\"text\"][train[\"isSpam\"] == 1])"
   ]
  },
  {
   "cell_type": "code",
   "execution_count": 24,
   "metadata": {},
   "outputs": [],
   "source": [
    "spam_lst = vectorizer.vocabulary_.keys()"
   ]
  },
  {
   "cell_type": "code",
   "execution_count": 25,
   "metadata": {},
   "outputs": [],
   "source": [
    "vectorizer = TfidfVectorizer(max_features = 100)\n",
    "vector = vectorizer.fit_transform(train[\"text\"][train[\"isSpam\"] == 0])"
   ]
  },
  {
   "cell_type": "code",
   "execution_count": 26,
   "metadata": {},
   "outputs": [],
   "source": [
    "ham_lst = vectorizer.vocabulary_.keys()"
   ]
  },
  {
   "cell_type": "code",
   "execution_count": 27,
   "metadata": {},
   "outputs": [
    {
     "name": "stdout",
     "output_type": "stream",
     "text": [
      "txt\n",
      "mobile\n",
      "sms\n",
      "win\n",
      "1000\n",
      "our\n",
      "150p\n",
      "msg\n",
      "customer\n",
      "been\n",
      "receive\n",
      "free\n",
      "ringtone\n",
      "reply\n",
      "message\n",
      "cash\n",
      "every\n",
      "wk\n",
      "www\n",
      "mins\n",
      "draw\n",
      "100\n",
      "camera\n",
      "awarded\n",
      "landline\n",
      "contact\n",
      "won\n",
      "prize\n",
      "claim\n",
      "per\n",
      "rate\n",
      "week\n",
      "new\n",
      "nokia\n",
      "phone\n",
      "video\n",
      "18\n",
      "uk\n",
      "com\n",
      "text\n",
      "chat\n",
      "please\n",
      "latest\n",
      "code\n",
      "cs\n",
      "50\n",
      "min\n",
      "500\n",
      "co\n",
      "po\n",
      "box\n",
      "urgent\n",
      "tone\n",
      "service\n",
      "guaranteed\n",
      "number\n",
      "has\n",
      "line\n",
      "150ppm\n",
      "16\n",
      "stop\n",
      "holiday\n",
      "find\n",
      "who\n",
      "000\n"
     ]
    }
   ],
   "source": [
    "for word in spam_lst:\n",
    "    if word not in ham_lst:\n",
    "        print(word)"
   ]
  },
  {
   "cell_type": "markdown",
   "metadata": {},
   "source": [
    "#### number rate"
   ]
  },
  {
   "cell_type": "code",
   "execution_count": 28,
   "metadata": {},
   "outputs": [],
   "source": [
    "ham_num = train[\"text\"][train[\"isSpam\"]==0].str.findall(r'[0-9]').str.len()/train[\"text\"][train[\"isSpam\"]==0].str.len()\n",
    "spam_num = train[\"text\"][train[\"isSpam\"]==1].str.findall(r'[0-9]').str.len()/train[\"text\"][train[\"isSpam\"]==1].str.len()"
   ]
  },
  {
   "cell_type": "code",
   "execution_count": 29,
   "metadata": {},
   "outputs": [
    {
     "data": {
      "text/plain": [
       "0.0040541994666673875"
      ]
     },
     "execution_count": 29,
     "metadata": {},
     "output_type": "execute_result"
    }
   ],
   "source": [
    "ham_num.mean()"
   ]
  },
  {
   "cell_type": "code",
   "execution_count": 30,
   "metadata": {
    "scrolled": false
   },
   "outputs": [
    {
     "data": {
      "text/plain": [
       "0.11692788868534248"
      ]
     },
     "execution_count": 30,
     "metadata": {},
     "output_type": "execute_result"
    }
   ],
   "source": [
    "spam_num.mean()"
   ]
  },
  {
   "cell_type": "code",
   "execution_count": 31,
   "metadata": {},
   "outputs": [],
   "source": [
    "train[\"num_rate\"] = train[\"text\"].str.findall(r'[0-9]').str.len()/train[\"text\"].str.len()"
   ]
  },
  {
   "cell_type": "code",
   "execution_count": 32,
   "metadata": {
    "scrolled": true
   },
   "outputs": [
    {
     "data": {
      "text/html": [
       "<div>\n",
       "<style scoped>\n",
       "    .dataframe tbody tr th:only-of-type {\n",
       "        vertical-align: middle;\n",
       "    }\n",
       "\n",
       "    .dataframe tbody tr th {\n",
       "        vertical-align: top;\n",
       "    }\n",
       "\n",
       "    .dataframe thead th {\n",
       "        text-align: right;\n",
       "    }\n",
       "</style>\n",
       "<table border=\"1\" class=\"dataframe\">\n",
       "  <thead>\n",
       "    <tr style=\"text-align: right;\">\n",
       "      <th></th>\n",
       "      <th>text</th>\n",
       "      <th>isSpam</th>\n",
       "      <th>text_len</th>\n",
       "      <th>punc</th>\n",
       "      <th>cap_rate</th>\n",
       "      <th>num_rate</th>\n",
       "    </tr>\n",
       "  </thead>\n",
       "  <tbody>\n",
       "    <tr>\n",
       "      <th>5448</th>\n",
       "      <td>aight we can pick some up, you open before ton...</td>\n",
       "      <td>0</td>\n",
       "      <td>51</td>\n",
       "      <td>0</td>\n",
       "      <td>0.000000</td>\n",
       "      <td>0.000000</td>\n",
       "    </tr>\n",
       "    <tr>\n",
       "      <th>1707</th>\n",
       "      <td>Was doing my test earlier. I appreciate you. W...</td>\n",
       "      <td>0</td>\n",
       "      <td>68</td>\n",
       "      <td>0</td>\n",
       "      <td>0.044118</td>\n",
       "      <td>0.000000</td>\n",
       "    </tr>\n",
       "    <tr>\n",
       "      <th>2117</th>\n",
       "      <td>Wish u many many returns of the day.. Happy bi...</td>\n",
       "      <td>0</td>\n",
       "      <td>60</td>\n",
       "      <td>0</td>\n",
       "      <td>0.033333</td>\n",
       "      <td>0.000000</td>\n",
       "    </tr>\n",
       "    <tr>\n",
       "      <th>1357</th>\n",
       "      <td>Good afternoon loverboy ! How goes you day ? A...</td>\n",
       "      <td>0</td>\n",
       "      <td>152</td>\n",
       "      <td>1</td>\n",
       "      <td>0.026316</td>\n",
       "      <td>0.000000</td>\n",
       "    </tr>\n",
       "    <tr>\n",
       "      <th>787</th>\n",
       "      <td>Ever thought about living a good life with a p...</td>\n",
       "      <td>1</td>\n",
       "      <td>129</td>\n",
       "      <td>0</td>\n",
       "      <td>0.093023</td>\n",
       "      <td>0.023256</td>\n",
       "    </tr>\n",
       "  </tbody>\n",
       "</table>\n",
       "</div>"
      ],
      "text/plain": [
       "                                                   text  isSpam  text_len  \\\n",
       "5448  aight we can pick some up, you open before ton...       0        51   \n",
       "1707  Was doing my test earlier. I appreciate you. W...       0        68   \n",
       "2117  Wish u many many returns of the day.. Happy bi...       0        60   \n",
       "1357  Good afternoon loverboy ! How goes you day ? A...       0       152   \n",
       "787   Ever thought about living a good life with a p...       1       129   \n",
       "\n",
       "      punc  cap_rate  num_rate  \n",
       "5448     0  0.000000  0.000000  \n",
       "1707     0  0.044118  0.000000  \n",
       "2117     0  0.033333  0.000000  \n",
       "1357     1  0.026316  0.000000  \n",
       "787      0  0.093023  0.023256  "
      ]
     },
     "execution_count": 32,
     "metadata": {},
     "output_type": "execute_result"
    }
   ],
   "source": [
    "train.head()"
   ]
  },
  {
   "cell_type": "code",
   "execution_count": 33,
   "metadata": {},
   "outputs": [],
   "source": [
    "def preprocess(df):\n",
    "    df[\"text\"] = df[\"text\"].str.lower()\n",
    "    df[\"text_len\"] = df[\"text\"].str.len()\n",
    "    df[\"punc\"] = df[\"text\"].str.count(\"!\")\n",
    "    df[\"cap_rate\"] = df[\"text\"].str.findall(r'[A-Z]').str.len()/df[\"text\"].str.len()\n",
    "    df[\"num_rate\"] = df[\"text\"].str.findall(r'[0-9]').str.len()/df[\"text\"].str.len()\n",
    "    \n",
    "    return df\n"
   ]
  },
  {
   "cell_type": "code",
   "execution_count": 34,
   "metadata": {},
   "outputs": [],
   "source": [
    "preprocessed_train = preprocess(train)"
   ]
  },
  {
   "cell_type": "code",
   "execution_count": 35,
   "metadata": {
    "scrolled": true
   },
   "outputs": [
    {
     "data": {
      "text/html": [
       "<div>\n",
       "<style scoped>\n",
       "    .dataframe tbody tr th:only-of-type {\n",
       "        vertical-align: middle;\n",
       "    }\n",
       "\n",
       "    .dataframe tbody tr th {\n",
       "        vertical-align: top;\n",
       "    }\n",
       "\n",
       "    .dataframe thead th {\n",
       "        text-align: right;\n",
       "    }\n",
       "</style>\n",
       "<table border=\"1\" class=\"dataframe\">\n",
       "  <thead>\n",
       "    <tr style=\"text-align: right;\">\n",
       "      <th></th>\n",
       "      <th>text</th>\n",
       "      <th>isSpam</th>\n",
       "      <th>text_len</th>\n",
       "      <th>punc</th>\n",
       "      <th>cap_rate</th>\n",
       "      <th>num_rate</th>\n",
       "    </tr>\n",
       "  </thead>\n",
       "  <tbody>\n",
       "    <tr>\n",
       "      <th>5448</th>\n",
       "      <td>aight we can pick some up, you open before ton...</td>\n",
       "      <td>0</td>\n",
       "      <td>51</td>\n",
       "      <td>0</td>\n",
       "      <td>0.0</td>\n",
       "      <td>0.000000</td>\n",
       "    </tr>\n",
       "    <tr>\n",
       "      <th>1707</th>\n",
       "      <td>was doing my test earlier. i appreciate you. w...</td>\n",
       "      <td>0</td>\n",
       "      <td>68</td>\n",
       "      <td>0</td>\n",
       "      <td>0.0</td>\n",
       "      <td>0.000000</td>\n",
       "    </tr>\n",
       "    <tr>\n",
       "      <th>2117</th>\n",
       "      <td>wish u many many returns of the day.. happy bi...</td>\n",
       "      <td>0</td>\n",
       "      <td>60</td>\n",
       "      <td>0</td>\n",
       "      <td>0.0</td>\n",
       "      <td>0.000000</td>\n",
       "    </tr>\n",
       "    <tr>\n",
       "      <th>1357</th>\n",
       "      <td>good afternoon loverboy ! how goes you day ? a...</td>\n",
       "      <td>0</td>\n",
       "      <td>152</td>\n",
       "      <td>1</td>\n",
       "      <td>0.0</td>\n",
       "      <td>0.000000</td>\n",
       "    </tr>\n",
       "    <tr>\n",
       "      <th>787</th>\n",
       "      <td>ever thought about living a good life with a p...</td>\n",
       "      <td>1</td>\n",
       "      <td>129</td>\n",
       "      <td>0</td>\n",
       "      <td>0.0</td>\n",
       "      <td>0.023256</td>\n",
       "    </tr>\n",
       "  </tbody>\n",
       "</table>\n",
       "</div>"
      ],
      "text/plain": [
       "                                                   text  isSpam  text_len  \\\n",
       "5448  aight we can pick some up, you open before ton...       0        51   \n",
       "1707  was doing my test earlier. i appreciate you. w...       0        68   \n",
       "2117  wish u many many returns of the day.. happy bi...       0        60   \n",
       "1357  good afternoon loverboy ! how goes you day ? a...       0       152   \n",
       "787   ever thought about living a good life with a p...       1       129   \n",
       "\n",
       "      punc  cap_rate  num_rate  \n",
       "5448     0       0.0  0.000000  \n",
       "1707     0       0.0  0.000000  \n",
       "2117     0       0.0  0.000000  \n",
       "1357     1       0.0  0.000000  \n",
       "787      0       0.0  0.023256  "
      ]
     },
     "execution_count": 35,
     "metadata": {},
     "output_type": "execute_result"
    }
   ],
   "source": [
    "preprocessed_train.head()"
   ]
  },
  {
   "cell_type": "markdown",
   "metadata": {},
   "source": [
    "### 4. Tokenizing & Vocab Dict"
   ]
  },
  {
   "cell_type": "code",
   "execution_count": 36,
   "metadata": {},
   "outputs": [],
   "source": [
    "from nltk import stem\n",
    "from nltk.corpus import stopwords\n",
    "stemmer = stem.SnowballStemmer('english')\n",
    "stopwords = set(stopwords.words('english'))"
   ]
  },
  {
   "cell_type": "code",
   "execution_count": 37,
   "metadata": {},
   "outputs": [],
   "source": [
    "def tokenize(txt):\n",
    "    txt = re.sub('[^\\w\\s]', ' ', txt)\n",
    "    txt = re.sub('\\d+', ' ', txt)\n",
    "    txt = [word for word in txt.split() if word not in stopwords]\n",
    "    txt = \" \".join([stemmer.stem(word) for word in txt])\n",
    "    return txt"
   ]
  },
  {
   "cell_type": "code",
   "execution_count": 38,
   "metadata": {},
   "outputs": [],
   "source": [
    "preprocessed_train[\"text\"] = preprocessed_train[\"text\"].apply(tokenize)"
   ]
  },
  {
   "cell_type": "code",
   "execution_count": 39,
   "metadata": {
    "scrolled": true
   },
   "outputs": [
    {
     "data": {
      "text/html": [
       "<div>\n",
       "<style scoped>\n",
       "    .dataframe tbody tr th:only-of-type {\n",
       "        vertical-align: middle;\n",
       "    }\n",
       "\n",
       "    .dataframe tbody tr th {\n",
       "        vertical-align: top;\n",
       "    }\n",
       "\n",
       "    .dataframe thead th {\n",
       "        text-align: right;\n",
       "    }\n",
       "</style>\n",
       "<table border=\"1\" class=\"dataframe\">\n",
       "  <thead>\n",
       "    <tr style=\"text-align: right;\">\n",
       "      <th></th>\n",
       "      <th>text</th>\n",
       "      <th>isSpam</th>\n",
       "      <th>text_len</th>\n",
       "      <th>punc</th>\n",
       "      <th>cap_rate</th>\n",
       "      <th>num_rate</th>\n",
       "    </tr>\n",
       "  </thead>\n",
       "  <tbody>\n",
       "    <tr>\n",
       "      <th>5448</th>\n",
       "      <td>aight pick open tonight</td>\n",
       "      <td>0</td>\n",
       "      <td>51</td>\n",
       "      <td>0</td>\n",
       "      <td>0.0</td>\n",
       "      <td>0.000000</td>\n",
       "    </tr>\n",
       "    <tr>\n",
       "      <th>1707</th>\n",
       "      <td>test earlier appreci call tomorrow</td>\n",
       "      <td>0</td>\n",
       "      <td>68</td>\n",
       "      <td>0</td>\n",
       "      <td>0.0</td>\n",
       "      <td>0.000000</td>\n",
       "    </tr>\n",
       "    <tr>\n",
       "      <th>2117</th>\n",
       "      <td>wish u mani mani return day happi birthday vikki</td>\n",
       "      <td>0</td>\n",
       "      <td>60</td>\n",
       "      <td>0</td>\n",
       "      <td>0.0</td>\n",
       "      <td>0.000000</td>\n",
       "    </tr>\n",
       "    <tr>\n",
       "      <th>1357</th>\n",
       "      <td>good afternoon loverboy goe day luck come way ...</td>\n",
       "      <td>0</td>\n",
       "      <td>152</td>\n",
       "      <td>1</td>\n",
       "      <td>0.0</td>\n",
       "      <td>0.000000</td>\n",
       "    </tr>\n",
       "    <tr>\n",
       "      <th>787</th>\n",
       "      <td>ever thought live good life perfect partner tx...</td>\n",
       "      <td>1</td>\n",
       "      <td>129</td>\n",
       "      <td>0</td>\n",
       "      <td>0.0</td>\n",
       "      <td>0.023256</td>\n",
       "    </tr>\n",
       "  </tbody>\n",
       "</table>\n",
       "</div>"
      ],
      "text/plain": [
       "                                                   text  isSpam  text_len  \\\n",
       "5448                            aight pick open tonight       0        51   \n",
       "1707                 test earlier appreci call tomorrow       0        68   \n",
       "2117   wish u mani mani return day happi birthday vikki       0        60   \n",
       "1357  good afternoon loverboy goe day luck come way ...       0       152   \n",
       "787   ever thought live good life perfect partner tx...       1       129   \n",
       "\n",
       "      punc  cap_rate  num_rate  \n",
       "5448     0       0.0  0.000000  \n",
       "1707     0       0.0  0.000000  \n",
       "2117     0       0.0  0.000000  \n",
       "1357     1       0.0  0.000000  \n",
       "787      0       0.0  0.023256  "
      ]
     },
     "execution_count": 39,
     "metadata": {},
     "output_type": "execute_result"
    }
   ],
   "source": [
    "preprocessed_train.head()"
   ]
  },
  {
   "cell_type": "code",
   "execution_count": 40,
   "metadata": {},
   "outputs": [],
   "source": [
    "vectorizer = TfidfVectorizer(max_features = 150)\n",
    "train_vector = vectorizer.fit_transform(preprocessed_train[\"text\"])"
   ]
  },
  {
   "cell_type": "code",
   "execution_count": 41,
   "metadata": {},
   "outputs": [
    {
     "data": {
      "text/plain": [
       "{'pick': 88,\n",
       " 'tonight': 125,\n",
       " 'call': 12,\n",
       " 'tomorrow': 123,\n",
       " 'wish': 142,\n",
       " 'day': 25,\n",
       " 'happi': 45,\n",
       " 'good': 40,\n",
       " 'come': 20,\n",
       " 'way': 137,\n",
       " 'think': 120,\n",
       " 'send': 99,\n",
       " 'love': 64,\n",
       " 'make': 66,\n",
       " 'smile': 104,\n",
       " 'live': 60,\n",
       " 'life': 58,\n",
       " 'txt': 127,\n",
       " 'back': 9,\n",
       " 'mobil': 71,\n",
       " 'let': 57,\n",
       " 'know': 53,\n",
       " 'lol': 61,\n",
       " 'finish': 33,\n",
       " 'meet': 67,\n",
       " 'special': 109,\n",
       " 'win': 141,\n",
       " 'take': 114,\n",
       " 'go': 39,\n",
       " 'msg': 74,\n",
       " 'also': 1,\n",
       " 'said': 96,\n",
       " 'start': 110,\n",
       " 'around': 5,\n",
       " 'sorri': 108,\n",
       " 'help': 46,\n",
       " 'leav': 56,\n",
       " 'week': 138,\n",
       " 'new': 77,\n",
       " 'gt': 43,\n",
       " 'work': 143,\n",
       " 'hi': 48,\n",
       " 'lt': 65,\n",
       " 'contact': 21,\n",
       " 'www': 145,\n",
       " 'com': 19,\n",
       " 'great': 42,\n",
       " 'place': 89,\n",
       " 'free': 35,\n",
       " 'ok': 83,\n",
       " 'thing': 119,\n",
       " 'time': 121,\n",
       " 'year': 147,\n",
       " 'alreadi': 0,\n",
       " 'get': 37,\n",
       " 'lor': 63,\n",
       " 'pleas': 90,\n",
       " 'phone': 87,\n",
       " 'say': 97,\n",
       " 'give': 38,\n",
       " 'miss': 70,\n",
       " 'someon': 105,\n",
       " 'would': 144,\n",
       " 'like': 59,\n",
       " 'pls': 91,\n",
       " 'right': 95,\n",
       " 'amp': 3,\n",
       " 'wait': 133,\n",
       " 'person': 86,\n",
       " 'even': 29,\n",
       " 'repli': 94,\n",
       " 'messag': 68,\n",
       " 'one': 84,\n",
       " 'look': 62,\n",
       " 'oh': 82,\n",
       " 'went': 140,\n",
       " 'today': 122,\n",
       " 'cant': 13,\n",
       " 'ur': 129,\n",
       " 'cash': 15,\n",
       " 'everi': 30,\n",
       " 'later': 55,\n",
       " 'need': 76,\n",
       " 'alway': 2,\n",
       " 'find': 32,\n",
       " 'sure': 113,\n",
       " 'someth': 106,\n",
       " 'see': 98,\n",
       " 'ask': 6,\n",
       " 'min': 69,\n",
       " 'yes': 148,\n",
       " 'got': 41,\n",
       " 'dont': 27,\n",
       " 'want': 134,\n",
       " 'well': 139,\n",
       " 'dear': 26,\n",
       " 'first': 34,\n",
       " 'guy': 44,\n",
       " 'tri': 126,\n",
       " 'morn': 73,\n",
       " 'home': 49,\n",
       " 'wat': 135,\n",
       " 'hey': 47,\n",
       " 'award': 7,\n",
       " 'sleep': 103,\n",
       " 'could': 23,\n",
       " 'check': 17,\n",
       " 'da': 24,\n",
       " 'tell': 116,\n",
       " 'watch': 136,\n",
       " 'prize': 92,\n",
       " 'claim': 18,\n",
       " 'per': 85,\n",
       " 'us': 131,\n",
       " 'thank': 118,\n",
       " 'still': 111,\n",
       " 'money': 72,\n",
       " 'talk': 115,\n",
       " 'friend': 36,\n",
       " 'nokia': 80,\n",
       " 'text': 117,\n",
       " 'night': 79,\n",
       " 'im': 51,\n",
       " 'stop': 112,\n",
       " 'yeah': 146,\n",
       " 'uk': 128,\n",
       " 'hope': 50,\n",
       " 'realli': 93,\n",
       " 'use': 132,\n",
       " 'nice': 78,\n",
       " 'keep': 52,\n",
       " 'much': 75,\n",
       " 'sent': 100,\n",
       " 'last': 54,\n",
       " 'cos': 22,\n",
       " 'chat': 16,\n",
       " 'anyth': 4,\n",
       " 'babe': 8,\n",
       " 'number': 81,\n",
       " 'feel': 31,\n",
       " 'show': 102,\n",
       " 'soon': 107,\n",
       " 'ì_': 149,\n",
       " 'tone': 124,\n",
       " 'box': 10,\n",
       " 'care': 14,\n",
       " 'buy': 11,\n",
       " 'end': 28,\n",
       " 'urgent': 130,\n",
       " 'servic': 101}"
      ]
     },
     "execution_count": 41,
     "metadata": {},
     "output_type": "execute_result"
    }
   ],
   "source": [
    "vectorizer.vocabulary_"
   ]
  },
  {
   "cell_type": "markdown",
   "metadata": {},
   "source": [
    "vocab dictionary"
   ]
  },
  {
   "cell_type": "markdown",
   "metadata": {},
   "source": [
    "### 5.Test dataset"
   ]
  },
  {
   "cell_type": "code",
   "execution_count": 42,
   "metadata": {},
   "outputs": [],
   "source": [
    "test = pd.DataFrame(X_test)\n",
    "preprocessed_test = preprocess(test)\n",
    "preprocessed_test[\"text\"] = preprocessed_test[\"text\"].apply(tokenize)\n",
    "test_vector = vectorizer.transform(preprocessed_test[\"text\"])"
   ]
  },
  {
   "cell_type": "code",
   "execution_count": 43,
   "metadata": {
    "scrolled": true
   },
   "outputs": [],
   "source": [
    "train_vector = train_vector.toarray()\n",
    "test_vector = test_vector.toarray()"
   ]
  },
  {
   "cell_type": "code",
   "execution_count": 44,
   "metadata": {},
   "outputs": [
    {
     "data": {
      "text/plain": [
       "(5014, 150)"
      ]
     },
     "execution_count": 44,
     "metadata": {},
     "output_type": "execute_result"
    }
   ],
   "source": [
    "train_vector.shape"
   ]
  },
  {
   "cell_type": "code",
   "execution_count": 45,
   "metadata": {
    "scrolled": true
   },
   "outputs": [
    {
     "data": {
      "text/plain": [
       "(558, 150)"
      ]
     },
     "execution_count": 45,
     "metadata": {},
     "output_type": "execute_result"
    }
   ],
   "source": [
    "test_vector.shape"
   ]
  },
  {
   "cell_type": "code",
   "execution_count": 46,
   "metadata": {},
   "outputs": [],
   "source": [
    "train_names = sorted(vectorizer.vocabulary_.keys(), key=lambda x: vectorizer.vocabulary_[x])\n",
    "train_tfidf = pd.DataFrame(train_vector, columns=train_names)\n",
    "\n",
    "test_names = sorted(vectorizer.vocabulary_.keys(), key=lambda x: vectorizer.vocabulary_[x])\n",
    "test_tfidf = pd.DataFrame(test_vector, columns=test_names)"
   ]
  },
  {
   "cell_type": "code",
   "execution_count": 47,
   "metadata": {},
   "outputs": [],
   "source": [
    "preprocessed_train = preprocessed_train.reset_index(drop = True)\n",
    "preprocessed_test = preprocessed_test.reset_index(drop = True)"
   ]
  },
  {
   "cell_type": "code",
   "execution_count": 48,
   "metadata": {},
   "outputs": [],
   "source": [
    "final_train = pd.concat([train_tfidf, preprocessed_train.iloc[:, 1:]], axis = 1)\n",
    "final_test = pd.concat([test_tfidf, preprocessed_test.iloc[:, 1:]], axis = 1)"
   ]
  },
  {
   "cell_type": "code",
   "execution_count": 49,
   "metadata": {},
   "outputs": [],
   "source": [
    "final_train_x = final_train.loc[:, final_train.columns != 'isSpam']\n",
    "final_train_y = final_train['isSpam']"
   ]
  },
  {
   "cell_type": "code",
   "execution_count": 50,
   "metadata": {},
   "outputs": [
    {
     "data": {
      "text/html": [
       "<div>\n",
       "<style scoped>\n",
       "    .dataframe tbody tr th:only-of-type {\n",
       "        vertical-align: middle;\n",
       "    }\n",
       "\n",
       "    .dataframe tbody tr th {\n",
       "        vertical-align: top;\n",
       "    }\n",
       "\n",
       "    .dataframe thead th {\n",
       "        text-align: right;\n",
       "    }\n",
       "</style>\n",
       "<table border=\"1\" class=\"dataframe\">\n",
       "  <thead>\n",
       "    <tr style=\"text-align: right;\">\n",
       "      <th></th>\n",
       "      <th>alreadi</th>\n",
       "      <th>also</th>\n",
       "      <th>alway</th>\n",
       "      <th>amp</th>\n",
       "      <th>anyth</th>\n",
       "      <th>around</th>\n",
       "      <th>ask</th>\n",
       "      <th>award</th>\n",
       "      <th>babe</th>\n",
       "      <th>back</th>\n",
       "      <th>...</th>\n",
       "      <th>would</th>\n",
       "      <th>www</th>\n",
       "      <th>yeah</th>\n",
       "      <th>year</th>\n",
       "      <th>yes</th>\n",
       "      <th>ì_</th>\n",
       "      <th>text_len</th>\n",
       "      <th>punc</th>\n",
       "      <th>cap_rate</th>\n",
       "      <th>num_rate</th>\n",
       "    </tr>\n",
       "  </thead>\n",
       "  <tbody>\n",
       "    <tr>\n",
       "      <th>0</th>\n",
       "      <td>0.0</td>\n",
       "      <td>0.0</td>\n",
       "      <td>0.0</td>\n",
       "      <td>0.0</td>\n",
       "      <td>0.0</td>\n",
       "      <td>0.0</td>\n",
       "      <td>0.0</td>\n",
       "      <td>0.0</td>\n",
       "      <td>0.0</td>\n",
       "      <td>0.000000</td>\n",
       "      <td>...</td>\n",
       "      <td>0.0</td>\n",
       "      <td>0.0</td>\n",
       "      <td>0.0</td>\n",
       "      <td>0.0</td>\n",
       "      <td>0.0</td>\n",
       "      <td>0.0</td>\n",
       "      <td>51</td>\n",
       "      <td>0</td>\n",
       "      <td>0.0</td>\n",
       "      <td>0.000000</td>\n",
       "    </tr>\n",
       "    <tr>\n",
       "      <th>1</th>\n",
       "      <td>0.0</td>\n",
       "      <td>0.0</td>\n",
       "      <td>0.0</td>\n",
       "      <td>0.0</td>\n",
       "      <td>0.0</td>\n",
       "      <td>0.0</td>\n",
       "      <td>0.0</td>\n",
       "      <td>0.0</td>\n",
       "      <td>0.0</td>\n",
       "      <td>0.000000</td>\n",
       "      <td>...</td>\n",
       "      <td>0.0</td>\n",
       "      <td>0.0</td>\n",
       "      <td>0.0</td>\n",
       "      <td>0.0</td>\n",
       "      <td>0.0</td>\n",
       "      <td>0.0</td>\n",
       "      <td>68</td>\n",
       "      <td>0</td>\n",
       "      <td>0.0</td>\n",
       "      <td>0.000000</td>\n",
       "    </tr>\n",
       "    <tr>\n",
       "      <th>2</th>\n",
       "      <td>0.0</td>\n",
       "      <td>0.0</td>\n",
       "      <td>0.0</td>\n",
       "      <td>0.0</td>\n",
       "      <td>0.0</td>\n",
       "      <td>0.0</td>\n",
       "      <td>0.0</td>\n",
       "      <td>0.0</td>\n",
       "      <td>0.0</td>\n",
       "      <td>0.000000</td>\n",
       "      <td>...</td>\n",
       "      <td>0.0</td>\n",
       "      <td>0.0</td>\n",
       "      <td>0.0</td>\n",
       "      <td>0.0</td>\n",
       "      <td>0.0</td>\n",
       "      <td>0.0</td>\n",
       "      <td>60</td>\n",
       "      <td>0</td>\n",
       "      <td>0.0</td>\n",
       "      <td>0.000000</td>\n",
       "    </tr>\n",
       "    <tr>\n",
       "      <th>3</th>\n",
       "      <td>0.0</td>\n",
       "      <td>0.0</td>\n",
       "      <td>0.0</td>\n",
       "      <td>0.0</td>\n",
       "      <td>0.0</td>\n",
       "      <td>0.0</td>\n",
       "      <td>0.0</td>\n",
       "      <td>0.0</td>\n",
       "      <td>0.0</td>\n",
       "      <td>0.000000</td>\n",
       "      <td>...</td>\n",
       "      <td>0.0</td>\n",
       "      <td>0.0</td>\n",
       "      <td>0.0</td>\n",
       "      <td>0.0</td>\n",
       "      <td>0.0</td>\n",
       "      <td>0.0</td>\n",
       "      <td>152</td>\n",
       "      <td>1</td>\n",
       "      <td>0.0</td>\n",
       "      <td>0.000000</td>\n",
       "    </tr>\n",
       "    <tr>\n",
       "      <th>4</th>\n",
       "      <td>0.0</td>\n",
       "      <td>0.0</td>\n",
       "      <td>0.0</td>\n",
       "      <td>0.0</td>\n",
       "      <td>0.0</td>\n",
       "      <td>0.0</td>\n",
       "      <td>0.0</td>\n",
       "      <td>0.0</td>\n",
       "      <td>0.0</td>\n",
       "      <td>0.388651</td>\n",
       "      <td>...</td>\n",
       "      <td>0.0</td>\n",
       "      <td>0.0</td>\n",
       "      <td>0.0</td>\n",
       "      <td>0.0</td>\n",
       "      <td>0.0</td>\n",
       "      <td>0.0</td>\n",
       "      <td>129</td>\n",
       "      <td>0</td>\n",
       "      <td>0.0</td>\n",
       "      <td>0.023256</td>\n",
       "    </tr>\n",
       "    <tr>\n",
       "      <th>...</th>\n",
       "      <td>...</td>\n",
       "      <td>...</td>\n",
       "      <td>...</td>\n",
       "      <td>...</td>\n",
       "      <td>...</td>\n",
       "      <td>...</td>\n",
       "      <td>...</td>\n",
       "      <td>...</td>\n",
       "      <td>...</td>\n",
       "      <td>...</td>\n",
       "      <td>...</td>\n",
       "      <td>...</td>\n",
       "      <td>...</td>\n",
       "      <td>...</td>\n",
       "      <td>...</td>\n",
       "      <td>...</td>\n",
       "      <td>...</td>\n",
       "      <td>...</td>\n",
       "      <td>...</td>\n",
       "      <td>...</td>\n",
       "      <td>...</td>\n",
       "    </tr>\n",
       "    <tr>\n",
       "      <th>5009</th>\n",
       "      <td>0.0</td>\n",
       "      <td>0.0</td>\n",
       "      <td>0.0</td>\n",
       "      <td>0.0</td>\n",
       "      <td>0.0</td>\n",
       "      <td>0.0</td>\n",
       "      <td>0.0</td>\n",
       "      <td>0.0</td>\n",
       "      <td>0.0</td>\n",
       "      <td>0.000000</td>\n",
       "      <td>...</td>\n",
       "      <td>0.0</td>\n",
       "      <td>0.0</td>\n",
       "      <td>0.0</td>\n",
       "      <td>0.0</td>\n",
       "      <td>0.0</td>\n",
       "      <td>0.0</td>\n",
       "      <td>157</td>\n",
       "      <td>1</td>\n",
       "      <td>0.0</td>\n",
       "      <td>0.019108</td>\n",
       "    </tr>\n",
       "    <tr>\n",
       "      <th>5010</th>\n",
       "      <td>0.0</td>\n",
       "      <td>0.0</td>\n",
       "      <td>0.0</td>\n",
       "      <td>0.0</td>\n",
       "      <td>0.0</td>\n",
       "      <td>0.0</td>\n",
       "      <td>0.0</td>\n",
       "      <td>0.0</td>\n",
       "      <td>0.0</td>\n",
       "      <td>0.000000</td>\n",
       "      <td>...</td>\n",
       "      <td>0.0</td>\n",
       "      <td>0.0</td>\n",
       "      <td>0.0</td>\n",
       "      <td>0.0</td>\n",
       "      <td>0.0</td>\n",
       "      <td>0.0</td>\n",
       "      <td>78</td>\n",
       "      <td>0</td>\n",
       "      <td>0.0</td>\n",
       "      <td>0.000000</td>\n",
       "    </tr>\n",
       "    <tr>\n",
       "      <th>5011</th>\n",
       "      <td>0.0</td>\n",
       "      <td>0.0</td>\n",
       "      <td>0.0</td>\n",
       "      <td>0.0</td>\n",
       "      <td>0.0</td>\n",
       "      <td>0.0</td>\n",
       "      <td>0.0</td>\n",
       "      <td>0.0</td>\n",
       "      <td>0.0</td>\n",
       "      <td>0.000000</td>\n",
       "      <td>...</td>\n",
       "      <td>0.0</td>\n",
       "      <td>0.0</td>\n",
       "      <td>0.0</td>\n",
       "      <td>0.0</td>\n",
       "      <td>0.0</td>\n",
       "      <td>0.0</td>\n",
       "      <td>136</td>\n",
       "      <td>0</td>\n",
       "      <td>0.0</td>\n",
       "      <td>0.066176</td>\n",
       "    </tr>\n",
       "    <tr>\n",
       "      <th>5012</th>\n",
       "      <td>0.0</td>\n",
       "      <td>0.0</td>\n",
       "      <td>0.0</td>\n",
       "      <td>0.0</td>\n",
       "      <td>0.0</td>\n",
       "      <td>0.0</td>\n",
       "      <td>0.0</td>\n",
       "      <td>0.0</td>\n",
       "      <td>0.0</td>\n",
       "      <td>0.000000</td>\n",
       "      <td>...</td>\n",
       "      <td>0.0</td>\n",
       "      <td>0.0</td>\n",
       "      <td>0.0</td>\n",
       "      <td>0.0</td>\n",
       "      <td>0.0</td>\n",
       "      <td>0.0</td>\n",
       "      <td>44</td>\n",
       "      <td>0</td>\n",
       "      <td>0.0</td>\n",
       "      <td>0.000000</td>\n",
       "    </tr>\n",
       "    <tr>\n",
       "      <th>5013</th>\n",
       "      <td>0.0</td>\n",
       "      <td>0.0</td>\n",
       "      <td>0.0</td>\n",
       "      <td>0.0</td>\n",
       "      <td>0.0</td>\n",
       "      <td>0.0</td>\n",
       "      <td>0.0</td>\n",
       "      <td>0.0</td>\n",
       "      <td>0.0</td>\n",
       "      <td>0.000000</td>\n",
       "      <td>...</td>\n",
       "      <td>0.0</td>\n",
       "      <td>0.0</td>\n",
       "      <td>0.0</td>\n",
       "      <td>0.0</td>\n",
       "      <td>0.0</td>\n",
       "      <td>0.0</td>\n",
       "      <td>137</td>\n",
       "      <td>1</td>\n",
       "      <td>0.0</td>\n",
       "      <td>0.189781</td>\n",
       "    </tr>\n",
       "  </tbody>\n",
       "</table>\n",
       "<p>5014 rows × 154 columns</p>\n",
       "</div>"
      ],
      "text/plain": [
       "      alreadi  also  alway  amp  anyth  around  ask  award  babe      back  \\\n",
       "0         0.0   0.0    0.0  0.0    0.0     0.0  0.0    0.0   0.0  0.000000   \n",
       "1         0.0   0.0    0.0  0.0    0.0     0.0  0.0    0.0   0.0  0.000000   \n",
       "2         0.0   0.0    0.0  0.0    0.0     0.0  0.0    0.0   0.0  0.000000   \n",
       "3         0.0   0.0    0.0  0.0    0.0     0.0  0.0    0.0   0.0  0.000000   \n",
       "4         0.0   0.0    0.0  0.0    0.0     0.0  0.0    0.0   0.0  0.388651   \n",
       "...       ...   ...    ...  ...    ...     ...  ...    ...   ...       ...   \n",
       "5009      0.0   0.0    0.0  0.0    0.0     0.0  0.0    0.0   0.0  0.000000   \n",
       "5010      0.0   0.0    0.0  0.0    0.0     0.0  0.0    0.0   0.0  0.000000   \n",
       "5011      0.0   0.0    0.0  0.0    0.0     0.0  0.0    0.0   0.0  0.000000   \n",
       "5012      0.0   0.0    0.0  0.0    0.0     0.0  0.0    0.0   0.0  0.000000   \n",
       "5013      0.0   0.0    0.0  0.0    0.0     0.0  0.0    0.0   0.0  0.000000   \n",
       "\n",
       "      ...  would  www  yeah  year  yes   ì_  text_len  punc  cap_rate  \\\n",
       "0     ...    0.0  0.0   0.0   0.0  0.0  0.0        51     0       0.0   \n",
       "1     ...    0.0  0.0   0.0   0.0  0.0  0.0        68     0       0.0   \n",
       "2     ...    0.0  0.0   0.0   0.0  0.0  0.0        60     0       0.0   \n",
       "3     ...    0.0  0.0   0.0   0.0  0.0  0.0       152     1       0.0   \n",
       "4     ...    0.0  0.0   0.0   0.0  0.0  0.0       129     0       0.0   \n",
       "...   ...    ...  ...   ...   ...  ...  ...       ...   ...       ...   \n",
       "5009  ...    0.0  0.0   0.0   0.0  0.0  0.0       157     1       0.0   \n",
       "5010  ...    0.0  0.0   0.0   0.0  0.0  0.0        78     0       0.0   \n",
       "5011  ...    0.0  0.0   0.0   0.0  0.0  0.0       136     0       0.0   \n",
       "5012  ...    0.0  0.0   0.0   0.0  0.0  0.0        44     0       0.0   \n",
       "5013  ...    0.0  0.0   0.0   0.0  0.0  0.0       137     1       0.0   \n",
       "\n",
       "      num_rate  \n",
       "0     0.000000  \n",
       "1     0.000000  \n",
       "2     0.000000  \n",
       "3     0.000000  \n",
       "4     0.023256  \n",
       "...        ...  \n",
       "5009  0.019108  \n",
       "5010  0.000000  \n",
       "5011  0.066176  \n",
       "5012  0.000000  \n",
       "5013  0.189781  \n",
       "\n",
       "[5014 rows x 154 columns]"
      ]
     },
     "execution_count": 50,
     "metadata": {},
     "output_type": "execute_result"
    }
   ],
   "source": [
    "final_train_x"
   ]
  },
  {
   "cell_type": "markdown",
   "metadata": {},
   "source": [
    "### 6. DataLoaders"
   ]
  },
  {
   "cell_type": "code",
   "execution_count": 51,
   "metadata": {},
   "outputs": [],
   "source": [
    "class TrainData(Dataset):\n",
    "    def __init__(self):\n",
    "        self.x = torch.FloatTensor(final_train_x.values)\n",
    "        self.y = torch.tensor(final_train_y.values)\n",
    "        \n",
    "    def __getitem__(self, s):\n",
    "        return self.x[s], self.y[s]\n",
    "    \n",
    "    def __len__(self):\n",
    "        return len(self.x)"
   ]
  },
  {
   "cell_type": "code",
   "execution_count": 52,
   "metadata": {},
   "outputs": [],
   "source": [
    "class TestData(Dataset):\n",
    "    def __init__(self):\n",
    "        self.x = torch.FloatTensor(final_test.values)\n",
    "        self.y = torch.tensor(y_test.values)\n",
    "        \n",
    "    def __getitem__(self, s):\n",
    "        return self.x[s], self.y[s]\n",
    "    \n",
    "    def __len__(self):\n",
    "        return len(self.x)"
   ]
  },
  {
   "cell_type": "markdown",
   "metadata": {},
   "source": [
    "### 7. Modeling"
   ]
  },
  {
   "cell_type": "code",
   "execution_count": 53,
   "metadata": {},
   "outputs": [],
   "source": [
    "import torch\n",
    "from torch import nn, optim\n",
    "import torch.nn.functional as F"
   ]
  },
  {
   "cell_type": "code",
   "execution_count": 54,
   "metadata": {},
   "outputs": [],
   "source": [
    "batch_size = 200\n",
    "epoch = 300\n",
    "\n",
    "torch.manual_seed(1000)\n",
    "device = \"cuda\" if torch.cuda.is_available() else \"cpu\""
   ]
  },
  {
   "cell_type": "code",
   "execution_count": 55,
   "metadata": {},
   "outputs": [],
   "source": [
    "class SpamClassifier(nn.Module):\n",
    "    def __init__(self):\n",
    "        super(SpamClassifier, self).__init__()\n",
    "        self.fc1 = nn.Linear(154, 256)\n",
    "        self.fc2 = nn.Linear(256, 512)\n",
    "        self.fc3 = nn.Linear(512, 2)\n",
    "        self.bn1 = nn.BatchNorm1d(256)\n",
    "        self.bn2 = nn.BatchNorm1d(512)\n",
    "        self.dropout = nn.Dropout()\n",
    "        self.init_weights()\n",
    "    \n",
    "    def init_weights(self):\n",
    "        torch.nn.init.kaiming_normal_(self.fc1.weight)\n",
    "        torch.nn.init.kaiming_normal_(self.fc2.weight)\n",
    "        torch.nn.init.kaiming_normal_(self.fc3.weight)\n",
    "        torch.nn.init.zeros_(self.fc1.bias)\n",
    "        torch.nn.init.zeros_(self.fc2.bias)\n",
    "        torch.nn.init.zeros_(self.fc3.bias)\n",
    "    \n",
    "    def forward(self, x):\n",
    "        x = x.view(-1, x.shape[-1])\n",
    "        x = self.dropout(self.fc1(x))\n",
    "        x = F.relu(self.bn1(x))\n",
    "        x = self.dropout(self.fc2(x))\n",
    "        x = F.relu(self.bn2(x))\n",
    "        x = self.fc3(x)\n",
    "        return x"
   ]
  },
  {
   "cell_type": "code",
   "execution_count": 56,
   "metadata": {},
   "outputs": [],
   "source": [
    "net = SpamClassifier()\n",
    "criterion = nn.CrossEntropyLoss()\n",
    "optimizer = optim.SGD(net.parameters(), lr=0.01, momentum=0.9)"
   ]
  },
  {
   "cell_type": "code",
   "execution_count": 57,
   "metadata": {},
   "outputs": [],
   "source": [
    "dataset = TrainData()\n",
    "train_loader = DataLoader(dataset, batch_size=batch_size, shuffle=True)"
   ]
  },
  {
   "cell_type": "code",
   "execution_count": 58,
   "metadata": {},
   "outputs": [
    {
     "name": "stdout",
     "output_type": "stream",
     "text": [
      "10  :  0.31310401742274946\n",
      "20  :  0.30452786959134615\n",
      "30  :  0.29671764889588725\n",
      "40  :  0.288942396067656\n",
      "50  :  0.2936273945065645\n",
      "60  :  0.2815088297312076\n",
      "70  :  0.2962151227089075\n",
      "80  :  0.2875633669587282\n",
      "90  :  0.28462526116233605\n",
      "100  :  0.2839384921468221\n",
      "110  :  0.29778631776571274\n",
      "120  :  0.28733851187504256\n",
      "130  :  0.276014588200129\n",
      "140  :  0.28442489069241744\n",
      "150  :  0.2815150727446263\n",
      "160  :  0.2878282849605267\n",
      "170  :  0.27544462652160573\n",
      "180  :  0.2770598805867709\n",
      "190  :  0.27622699852173144\n",
      "200  :  0.28320490339627635\n",
      "210  :  0.2751637751666399\n",
      "220  :  0.2729828400680652\n",
      "230  :  0.28927346204335874\n",
      "240  :  0.2728160863312391\n",
      "250  :  0.2768727317452431\n",
      "260  :  0.2800661910038728\n",
      "270  :  0.26960171357943463\n",
      "280  :  0.27837980882479596\n",
      "290  :  0.27684973180294037\n",
      "300  :  0.2724925514597159\n"
     ]
    }
   ],
   "source": [
    "net.train()\n",
    "losses = []\n",
    "\n",
    "for i in range(1, epoch+1):\n",
    "    for x, y in train_loader:\n",
    "        optimizer.zero_grad()\n",
    "        y_pred = net(x)\n",
    "        loss = criterion(y_pred, y)\n",
    "        losses.append(loss.item())\n",
    "        loss.backward()\n",
    "        optimizer.step()\n",
    "    if i % 10 == 0:\n",
    "        print(i, \" : \", np.mean(losses))\n",
    "    losses = []"
   ]
  },
  {
   "cell_type": "code",
   "execution_count": 59,
   "metadata": {},
   "outputs": [],
   "source": [
    "dataset = TestData()\n",
    "test_loader = DataLoader(dataset, batch_size=batch_size, shuffle=True)"
   ]
  },
  {
   "cell_type": "code",
   "execution_count": 60,
   "metadata": {},
   "outputs": [
    {
     "name": "stdout",
     "output_type": "stream",
     "text": [
      "Accuracy of Spam Filter: 86 %\n"
     ]
    }
   ],
   "source": [
    "correct = 0\n",
    "total = 0\n",
    "total_output = []\n",
    "\n",
    "with torch.no_grad():\n",
    "    for x, y in test_loader:\n",
    "        outputs = net(x)\n",
    "        _, predicted = torch.max(outputs.data, 1)\n",
    "        total_output.extend(predicted.numpy())\n",
    "        total += y.size(0)\n",
    "        correct += (predicted == y).sum().item()\n",
    "\n",
    "print('Accuracy of Spam Filter: %d %%' % (\n",
    "    100 * correct / total))"
   ]
  },
  {
   "cell_type": "code",
   "execution_count": 61,
   "metadata": {},
   "outputs": [
    {
     "data": {
      "text/plain": [
       "539"
      ]
     },
     "execution_count": 61,
     "metadata": {},
     "output_type": "execute_result"
    }
   ],
   "source": [
    "total_output.count(0)"
   ]
  },
  {
   "cell_type": "code",
   "execution_count": 62,
   "metadata": {},
   "outputs": [
    {
     "data": {
      "text/plain": [
       "19"
      ]
     },
     "execution_count": 62,
     "metadata": {},
     "output_type": "execute_result"
    }
   ],
   "source": [
    "total_output.count(1)"
   ]
  },
  {
   "cell_type": "code",
   "execution_count": null,
   "metadata": {},
   "outputs": [],
   "source": []
  }
 ],
 "metadata": {
  "kernelspec": {
   "display_name": "Python 3",
   "language": "python",
   "name": "python3"
  },
  "language_info": {
   "codemirror_mode": {
    "name": "ipython",
    "version": 3
   },
   "file_extension": ".py",
   "mimetype": "text/x-python",
   "name": "python",
   "nbconvert_exporter": "python",
   "pygments_lexer": "ipython3",
   "version": "3.7.6"
  }
 },
 "nbformat": 4,
 "nbformat_minor": 4
}
