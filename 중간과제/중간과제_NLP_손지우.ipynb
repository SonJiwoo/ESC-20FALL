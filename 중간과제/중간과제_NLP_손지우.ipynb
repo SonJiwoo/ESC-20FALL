{
 "cells": [
  {
   "cell_type": "markdown",
   "metadata": {},
   "source": [
    "#### 손지우\n",
    "참고사이트[1]: https://www.kaggle.com/faressayah/natural-language-processing-nlp-for-beginners\n",
    "\n",
    "참고사이트[2]: https://www.kaggle.com/madz2000/simple-eda-with-data-cleaning-glove-98-accuracy"
   ]
  },
  {
   "cell_type": "markdown",
   "metadata": {},
   "source": [
    "# Natural Language Processing Assignment: Spam Filter\n",
    "## 1. Import necessary libs and datasets"
   ]
  },
  {
   "cell_type": "code",
   "execution_count": 1,
   "metadata": {},
   "outputs": [],
   "source": [
    "#Import Library\n",
    "import numpy as np\n",
    "import pandas as pd\n",
    "import seaborn as sns\n",
    "import matplotlib.pyplot as plt\n",
    "import re\n",
    "import random\n",
    "from collections import Counter\n",
    "from sklearn.model_selection import train_test_split\n",
    "from sklearn.linear_model import LogisticRegression\n",
    "from sklearn import metrics\n",
    "import urllib.request\n",
    "import torch\n",
    "from torch import nn, optim\n",
    "from torch.utils.data import Dataset, DataLoader\n",
    "from nltk.corpus import stopwords"
   ]
  },
  {
   "cell_type": "code",
   "execution_count": 2,
   "metadata": {},
   "outputs": [],
   "source": [
    "#Data Load\n",
    "# urllib.request.urlretrieve(\"https://raw.githubusercontent.com/mohitgupta-omg/Kaggle-SMS-Spam-Collection-Dataset-/master/spam.csv\", filename=\"spam.csv\")\n",
    "data = pd.read_csv('spam.csv', encoding='latin1')"
   ]
  },
  {
   "cell_type": "code",
   "execution_count": 3,
   "metadata": {},
   "outputs": [
    {
     "name": "stdout",
     "output_type": "stream",
     "text": [
      "Data Shape: (5572, 2)\n"
     ]
    }
   ],
   "source": [
    "#Basic preprocessing\n",
    "data = data[['v1', 'v2']]\n",
    "data['v1'].replace(['ham','spam'], [0,1], inplace=True)\n",
    "data.rename(columns={'v1':'isSpam', 'v2':'text'}, inplace=True)\n",
    "print(f'Data Shape: {data.shape}')"
   ]
  },
  {
   "cell_type": "code",
   "execution_count": 4,
   "metadata": {},
   "outputs": [
    {
     "name": "stdout",
     "output_type": "stream",
     "text": [
      "0    4825\n",
      "1     747\n",
      "Name: isSpam, dtype: int64\n"
     ]
    }
   ],
   "source": [
    "#Check if data is imbalanced\n",
    "print(data['isSpam'].value_counts())"
   ]
  },
  {
   "cell_type": "code",
   "execution_count": 5,
   "metadata": {
    "scrolled": true
   },
   "outputs": [
    {
     "data": {
      "text/html": [
       "<div>\n",
       "<style scoped>\n",
       "    .dataframe tbody tr th:only-of-type {\n",
       "        vertical-align: middle;\n",
       "    }\n",
       "\n",
       "    .dataframe tbody tr th {\n",
       "        vertical-align: top;\n",
       "    }\n",
       "\n",
       "    .dataframe thead th {\n",
       "        text-align: right;\n",
       "    }\n",
       "</style>\n",
       "<table border=\"1\" class=\"dataframe\">\n",
       "  <thead>\n",
       "    <tr style=\"text-align: right;\">\n",
       "      <th></th>\n",
       "      <th>isSpam</th>\n",
       "      <th>text</th>\n",
       "    </tr>\n",
       "  </thead>\n",
       "  <tbody>\n",
       "    <tr>\n",
       "      <th>0</th>\n",
       "      <td>0</td>\n",
       "      <td>Go until jurong point, crazy.. Available only ...</td>\n",
       "    </tr>\n",
       "    <tr>\n",
       "      <th>1</th>\n",
       "      <td>0</td>\n",
       "      <td>Ok lar... Joking wif u oni...</td>\n",
       "    </tr>\n",
       "    <tr>\n",
       "      <th>2</th>\n",
       "      <td>1</td>\n",
       "      <td>Free entry in 2 a wkly comp to win FA Cup fina...</td>\n",
       "    </tr>\n",
       "    <tr>\n",
       "      <th>3</th>\n",
       "      <td>0</td>\n",
       "      <td>U dun say so early hor... U c already then say...</td>\n",
       "    </tr>\n",
       "    <tr>\n",
       "      <th>4</th>\n",
       "      <td>0</td>\n",
       "      <td>Nah I don't think he goes to usf, he lives aro...</td>\n",
       "    </tr>\n",
       "  </tbody>\n",
       "</table>\n",
       "</div>"
      ],
      "text/plain": [
       "   isSpam                                               text\n",
       "0       0  Go until jurong point, crazy.. Available only ...\n",
       "1       0                      Ok lar... Joking wif u oni...\n",
       "2       1  Free entry in 2 a wkly comp to win FA Cup fina...\n",
       "3       0  U dun say so early hor... U c already then say...\n",
       "4       0  Nah I don't think he goes to usf, he lives aro..."
      ]
     },
     "execution_count": 5,
     "metadata": {},
     "output_type": "execute_result"
    }
   ],
   "source": [
    "#Data Check \n",
    "data.head()"
   ]
  },
  {
   "cell_type": "code",
   "execution_count": 6,
   "metadata": {},
   "outputs": [
    {
     "data": {
      "text/html": [
       "<div>\n",
       "<style scoped>\n",
       "    .dataframe tbody tr th:only-of-type {\n",
       "        vertical-align: middle;\n",
       "    }\n",
       "\n",
       "    .dataframe tbody tr th {\n",
       "        vertical-align: top;\n",
       "    }\n",
       "\n",
       "    .dataframe thead tr th {\n",
       "        text-align: left;\n",
       "    }\n",
       "\n",
       "    .dataframe thead tr:last-of-type th {\n",
       "        text-align: right;\n",
       "    }\n",
       "</style>\n",
       "<table border=\"1\" class=\"dataframe\">\n",
       "  <thead>\n",
       "    <tr>\n",
       "      <th></th>\n",
       "      <th colspan=\"4\" halign=\"left\">text</th>\n",
       "    </tr>\n",
       "    <tr>\n",
       "      <th></th>\n",
       "      <th>count</th>\n",
       "      <th>unique</th>\n",
       "      <th>top</th>\n",
       "      <th>freq</th>\n",
       "    </tr>\n",
       "    <tr>\n",
       "      <th>isSpam</th>\n",
       "      <th></th>\n",
       "      <th></th>\n",
       "      <th></th>\n",
       "      <th></th>\n",
       "    </tr>\n",
       "  </thead>\n",
       "  <tbody>\n",
       "    <tr>\n",
       "      <th>0</th>\n",
       "      <td>4825</td>\n",
       "      <td>4516</td>\n",
       "      <td>Sorry, I'll call later</td>\n",
       "      <td>30</td>\n",
       "    </tr>\n",
       "    <tr>\n",
       "      <th>1</th>\n",
       "      <td>747</td>\n",
       "      <td>653</td>\n",
       "      <td>Please call our customer service representativ...</td>\n",
       "      <td>4</td>\n",
       "    </tr>\n",
       "  </tbody>\n",
       "</table>\n",
       "</div>"
      ],
      "text/plain": [
       "        text                                                               \n",
       "       count unique                                                top freq\n",
       "isSpam                                                                     \n",
       "0       4825   4516                             Sorry, I'll call later   30\n",
       "1        747    653  Please call our customer service representativ...    4"
      ]
     },
     "execution_count": 6,
     "metadata": {},
     "output_type": "execute_result"
    }
   ],
   "source": [
    "data.groupby('isSpam').describe()"
   ]
  },
  {
   "cell_type": "markdown",
   "metadata": {},
   "source": [
    "## 2. Preprocessing\n",
    "### 텍스트 전처리함수입니다."
   ]
  },
  {
   "cell_type": "code",
   "execution_count": 7,
   "metadata": {},
   "outputs": [],
   "source": [
    "def cleanText(readData):\n",
    "    \n",
    "    #특수문자 제거\n",
    "    text = re.sub('[-=+,#/\\?:^$.@*\\\"※~&%ㆍ!』\\\\\\‘|\\(\\)\\[\\]\\<\\>`\\'…》å£û÷õ;]', '', readData)\n",
    "    \n",
    "    #소문자 처리\n",
    "    text = text.lower()\n",
    "    \n",
    "    #불용어 처리 & 한글자 제거\n",
    "    STOPWORDS = stopwords.words('english') + ['u', 'ü', 'ur', '4', '2', 'im', 'dont', 'doin', 'ure', 'dun']\n",
    "    text = ' '.join([word for word in text.split() if (word not in STOPWORDS) and (len(word) != 1)])\n",
    "        \n",
    "    return text"
   ]
  },
  {
   "cell_type": "code",
   "execution_count": 8,
   "metadata": {},
   "outputs": [],
   "source": [
    "def tokenize(text):\n",
    "    words = []\n",
    "    for i in text:\n",
    "        for j in i.split():\n",
    "            words.append(j)\n",
    "    return words"
   ]
  },
  {
   "cell_type": "code",
   "execution_count": 9,
   "metadata": {},
   "outputs": [],
   "source": [
    "data['cleanText'] = data.text.apply(cleanText)"
   ]
  },
  {
   "cell_type": "code",
   "execution_count": 10,
   "metadata": {
    "scrolled": true
   },
   "outputs": [
    {
     "data": {
      "text/html": [
       "<div>\n",
       "<style scoped>\n",
       "    .dataframe tbody tr th:only-of-type {\n",
       "        vertical-align: middle;\n",
       "    }\n",
       "\n",
       "    .dataframe tbody tr th {\n",
       "        vertical-align: top;\n",
       "    }\n",
       "\n",
       "    .dataframe thead th {\n",
       "        text-align: right;\n",
       "    }\n",
       "</style>\n",
       "<table border=\"1\" class=\"dataframe\">\n",
       "  <thead>\n",
       "    <tr style=\"text-align: right;\">\n",
       "      <th></th>\n",
       "      <th>isSpam</th>\n",
       "      <th>text</th>\n",
       "      <th>cleanText</th>\n",
       "    </tr>\n",
       "  </thead>\n",
       "  <tbody>\n",
       "    <tr>\n",
       "      <th>0</th>\n",
       "      <td>0</td>\n",
       "      <td>Go until jurong point, crazy.. Available only ...</td>\n",
       "      <td>go jurong point crazy available bugis great wo...</td>\n",
       "    </tr>\n",
       "    <tr>\n",
       "      <th>1</th>\n",
       "      <td>0</td>\n",
       "      <td>Ok lar... Joking wif u oni...</td>\n",
       "      <td>ok lar joking wif oni</td>\n",
       "    </tr>\n",
       "    <tr>\n",
       "      <th>2</th>\n",
       "      <td>1</td>\n",
       "      <td>Free entry in 2 a wkly comp to win FA Cup fina...</td>\n",
       "      <td>free entry wkly comp win fa cup final tkts 21s...</td>\n",
       "    </tr>\n",
       "    <tr>\n",
       "      <th>3</th>\n",
       "      <td>0</td>\n",
       "      <td>U dun say so early hor... U c already then say...</td>\n",
       "      <td>say early hor already say</td>\n",
       "    </tr>\n",
       "    <tr>\n",
       "      <th>4</th>\n",
       "      <td>0</td>\n",
       "      <td>Nah I don't think he goes to usf, he lives aro...</td>\n",
       "      <td>nah think goes usf lives around though</td>\n",
       "    </tr>\n",
       "    <tr>\n",
       "      <th>5</th>\n",
       "      <td>1</td>\n",
       "      <td>FreeMsg Hey there darling it's been 3 week's n...</td>\n",
       "      <td>freemsg hey darling weeks word back id like fu...</td>\n",
       "    </tr>\n",
       "    <tr>\n",
       "      <th>6</th>\n",
       "      <td>0</td>\n",
       "      <td>Even my brother is not like to speak with me. ...</td>\n",
       "      <td>even brother like speak treat like aids patent</td>\n",
       "    </tr>\n",
       "    <tr>\n",
       "      <th>7</th>\n",
       "      <td>0</td>\n",
       "      <td>As per your request 'Melle Melle (Oru Minnamin...</td>\n",
       "      <td>per request melle melle oru minnaminunginte nu...</td>\n",
       "    </tr>\n",
       "    <tr>\n",
       "      <th>8</th>\n",
       "      <td>1</td>\n",
       "      <td>WINNER!! As a valued network customer you have...</td>\n",
       "      <td>winner valued network customer selected receiv...</td>\n",
       "    </tr>\n",
       "    <tr>\n",
       "      <th>9</th>\n",
       "      <td>1</td>\n",
       "      <td>Had your mobile 11 months or more? U R entitle...</td>\n",
       "      <td>mobile 11 months entitled update latest colour...</td>\n",
       "    </tr>\n",
       "  </tbody>\n",
       "</table>\n",
       "</div>"
      ],
      "text/plain": [
       "   isSpam                                               text  \\\n",
       "0       0  Go until jurong point, crazy.. Available only ...   \n",
       "1       0                      Ok lar... Joking wif u oni...   \n",
       "2       1  Free entry in 2 a wkly comp to win FA Cup fina...   \n",
       "3       0  U dun say so early hor... U c already then say...   \n",
       "4       0  Nah I don't think he goes to usf, he lives aro...   \n",
       "5       1  FreeMsg Hey there darling it's been 3 week's n...   \n",
       "6       0  Even my brother is not like to speak with me. ...   \n",
       "7       0  As per your request 'Melle Melle (Oru Minnamin...   \n",
       "8       1  WINNER!! As a valued network customer you have...   \n",
       "9       1  Had your mobile 11 months or more? U R entitle...   \n",
       "\n",
       "                                           cleanText  \n",
       "0  go jurong point crazy available bugis great wo...  \n",
       "1                              ok lar joking wif oni  \n",
       "2  free entry wkly comp win fa cup final tkts 21s...  \n",
       "3                          say early hor already say  \n",
       "4             nah think goes usf lives around though  \n",
       "5  freemsg hey darling weeks word back id like fu...  \n",
       "6     even brother like speak treat like aids patent  \n",
       "7  per request melle melle oru minnaminunginte nu...  \n",
       "8  winner valued network customer selected receiv...  \n",
       "9  mobile 11 months entitled update latest colour...  "
      ]
     },
     "execution_count": 10,
     "metadata": {},
     "output_type": "execute_result"
    }
   ],
   "source": [
    "data.head(10)"
   ]
  },
  {
   "cell_type": "code",
   "execution_count": 11,
   "metadata": {
    "scrolled": false
   },
   "outputs": [
    {
     "data": {
      "text/plain": [
       "['go', 'jurong', 'point', 'crazy', 'available']"
      ]
     },
     "execution_count": 11,
     "metadata": {},
     "output_type": "execute_result"
    }
   ],
   "source": [
    "corpus = tokenize(data.cleanText)\n",
    "corpus[:5] #check"
   ]
  },
  {
   "cell_type": "markdown",
   "metadata": {},
   "source": [
    "## 3. Build Vocabulary"
   ]
  },
  {
   "cell_type": "code",
   "execution_count": 12,
   "metadata": {},
   "outputs": [],
   "source": [
    "def build_vocab(n, corpus=corpus, graph=False):\n",
    "    \n",
    "    #Count\n",
    "    counter = Counter(corpus)\n",
    "    most_common = counter.most_common(n-2) #0: padding_idx, 1: unk_idx이기 때문에 2개 적게!\n",
    "    most_common = dict(most_common)\n",
    "    \n",
    "    #Make Dictionary\n",
    "    vocab = {}\n",
    "    vocab['padding_idx'] = 0\n",
    "    vocab['unk_idx'] = 1\n",
    "    for idx, token in enumerate(most_common.keys()):\n",
    "        vocab[token] = idx+2\n",
    "        \n",
    "    #Graph\n",
    "    if graph == True:\n",
    "        sns.barplot(x=list(most_common.values()),y=list(most_common.keys()))\n",
    "        plt.title('Top {} Vocab'.format(n-2))\n",
    "        plt.show()\n",
    "\n",
    "    return vocab"
   ]
  },
  {
   "cell_type": "code",
   "execution_count": 13,
   "metadata": {
    "scrolled": false
   },
   "outputs": [
    {
     "data": {
      "image/png": "[encoded data removed]",
      "text/plain": [
       "<Figure size 432x288 with 1 Axes>"
      ]
     },
     "metadata": {
      "needs_background": "light"
     },
     "output_type": "display_data"
    },
    {
     "data": {
      "text/plain": [
       "{'padding_idx': 0,\n",
       " 'unk_idx': 1,\n",
       " 'call': 2,\n",
       " 'get': 3,\n",
       " 'go': 4,\n",
       " 'ok': 5,\n",
       " 'ltgt': 6,\n",
       " 'free': 7,\n",
       " 'know': 8,\n",
       " 'like': 9}"
      ]
     },
     "execution_count": 13,
     "metadata": {},
     "output_type": "execute_result"
    }
   ],
   "source": [
    "#example\n",
    "build_vocab(10, graph=True)"
   ]
  },
  {
   "cell_type": "code",
   "execution_count": 14,
   "metadata": {},
   "outputs": [],
   "source": [
    "#2000개 단어로 해보기\n",
    "vocab = build_vocab(2000)"
   ]
  },
  {
   "cell_type": "markdown",
   "metadata": {},
   "source": [
    "## 4. To Tensor"
   ]
  },
  {
   "cell_type": "markdown",
   "metadata": {},
   "source": [
    "### toTensor\n",
    "#### 토큰들을 텐서로 바꿔주는 함수입니다."
   ]
  },
  {
   "cell_type": "code",
   "execution_count": 15,
   "metadata": {},
   "outputs": [],
   "source": [
    "def toTensor(max_len, cleanText):\n",
    "    text_num = len(cleanText)\n",
    "    tch_big = torch.empty(text_num, max_len, dtype=torch.long)\n",
    "    \n",
    "    for idx, txt in enumerate(cleanText):\n",
    "        token = txt.split()\n",
    "        tch = torch.zeros(max_len)\n",
    "        bow = []\n",
    "        \n",
    "        for word in token:\n",
    "            if word in vocab.keys():\n",
    "                bow.append(vocab[word])\n",
    "            else:\n",
    "                bow.append(1) # 1: unk_idx\n",
    "        \n",
    "        for i in range(len(bow)):\n",
    "            if i < max_len:\n",
    "                tch[i] = bow[i]\n",
    "        \n",
    "        tch_big[idx] = tch\n",
    "    \n",
    "    return tch_big"
   ]
  },
  {
   "cell_type": "code",
   "execution_count": 16,
   "metadata": {
    "scrolled": true
   },
   "outputs": [
    {
     "data": {
      "text/plain": [
       "torch.Size([5572, 10])"
      ]
     },
     "execution_count": 16,
     "metadata": {},
     "output_type": "execute_result"
    }
   ],
   "source": [
    "toTensor(10, data.cleanText).shape"
   ]
  },
  {
   "cell_type": "code",
   "execution_count": 17,
   "metadata": {
    "scrolled": false
   },
   "outputs": [
    {
     "data": {
      "text/plain": [
       "tensor([[   4,    1,  663,  ...,  246, 1103,    1],\n",
       "        [   5,  206, 1256,  ...,    0,    0,    0],\n",
       "        [   7,  340,  618,  ...,  496, 1682,    1],\n",
       "        ...,\n",
       "        [   1, 1099,    1,  ...,    0,    0,    0],\n",
       "        [ 384,    1,    1,  ...,   99,  377,  107],\n",
       "        [   1,  361,  157,  ...,    0,    0,    0]])"
      ]
     },
     "execution_count": 17,
     "metadata": {},
     "output_type": "execute_result"
    }
   ],
   "source": [
    "toTensor(10, data.cleanText)"
   ]
  },
  {
   "cell_type": "markdown",
   "metadata": {},
   "source": [
    "## 5. Train-Test Split"
   ]
  },
  {
   "cell_type": "code",
   "execution_count": 18,
   "metadata": {},
   "outputs": [],
   "source": [
    "def train(data, vocab_size=2000, max_len=20):\n",
    "    data['cleanText'] = data.text.apply(cleanText)\n",
    "    corpus = tokenize(data.cleanText)\n",
    "    vocab = build_vocab(vocab_size)\n",
    "    X, y = toTensor(max_len, data.cleanText), data.isSpam\n",
    "    X_train, X_test, y_train, y_test = train_test_split(X, y, random_state=0, stratify=y, test_size=0.1)\n",
    "    \n",
    "    return X_train, X_test, y_train, y_test"
   ]
  },
  {
   "cell_type": "code",
   "execution_count": 19,
   "metadata": {},
   "outputs": [],
   "source": [
    "X_train, X_test, y_train, y_test = train(data)"
   ]
  },
  {
   "cell_type": "code",
   "execution_count": 20,
   "metadata": {},
   "outputs": [
    {
     "name": "stdout",
     "output_type": "stream",
     "text": [
      "5014 558\n"
     ]
    }
   ],
   "source": [
    "print(len(X_train), len(X_test))"
   ]
  },
  {
   "cell_type": "markdown",
   "metadata": {},
   "source": [
    "## 6. Evaluation"
   ]
  },
  {
   "cell_type": "markdown",
   "metadata": {},
   "source": [
    "## 6-1. Logistic Regression"
   ]
  },
  {
   "cell_type": "code",
   "execution_count": 21,
   "metadata": {},
   "outputs": [],
   "source": [
    "def logRegEval(X_test, y_test, k=40):\n",
    "    \n",
    "    #Logistic Regression 모델 설계\n",
    "    logreg = LogisticRegression(solver='liblinear')\n",
    "    logreg.fit(X_train, y_train)\n",
    "    \n",
    "    #40개의 Test sample 추출\n",
    "    idx = random.sample(range(len(y_test)), k=k)\n",
    "    indices = torch.tensor(idx)\n",
    "    sample_X = torch.index_select(X_test, 0, indices)\n",
    "    sample_y = y_test.reset_index(drop=True)[idx]\n",
    "    \n",
    "    #예측하기\n",
    "    y_pred_class = logreg.predict(sample_X)\n",
    "    y_pred_prob = logreg.predict_proba(sample_X)[:, 1]\n",
    "    \n",
    "    #평가하기\n",
    "    accuracy = metrics.accuracy_score(sample_y, y_pred_class)\n",
    "    auc = metrics.roc_auc_score(sample_y, y_pred_prob)\n",
    "    \n",
    "    print('< Logistic Regression >')\n",
    "    print('Accuracy:',round(accuracy,4))\n",
    "    print('AUC:', round(auc,4))"
   ]
  },
  {
   "cell_type": "code",
   "execution_count": 22,
   "metadata": {
    "scrolled": true
   },
   "outputs": [
    {
     "name": "stdout",
     "output_type": "stream",
     "text": [
      "< Logistic Regression >\n",
      "Accuracy: 0.825\n",
      "AUC: 0.8701\n"
     ]
    }
   ],
   "source": [
    "logRegEval(X_test, y_test)"
   ]
  },
  {
   "cell_type": "markdown",
   "metadata": {},
   "source": [
    "## 6-2. Attention\n",
    "- 참고사이트: https://wikidocs.net/48920\n",
    "- [예비참고사이트](https://www.analyticsvidhya.com/blog/2019/11/comprehensive-guide-attention-mechanism-deep-learning/)"
   ]
  },
  {
   "cell_type": "code",
   "execution_count": 23,
   "metadata": {},
   "outputs": [],
   "source": [
    "from tensorflow.keras.layers import Dense, Embedding, Bidirectional, LSTM, Concatenate, Dropout\n",
    "from tensorflow.keras import Input, Model\n",
    "from tensorflow.keras import optimizers\n",
    "import tensorflow as tf\n",
    "import os"
   ]
  },
  {
   "cell_type": "code",
   "execution_count": 24,
   "metadata": {},
   "outputs": [],
   "source": [
    "class BahdanauAttention(tf.keras.Model):\n",
    "    def __init__(self, units):\n",
    "        super(BahdanauAttention, self).__init__()\n",
    "        self.W1 = Dense(units)\n",
    "        self.W2 = Dense(units)\n",
    "        self.V = Dense(1)\n",
    "\n",
    "    def call(self, values, query): # 단, key와 value는 같음\n",
    "        # query shape == (batch_size, hidden size)\n",
    "        # hidden_with_time_axis shape == (batch_size, 1, hidden size)\n",
    "        # score 계산을 위해 뒤에서 할 덧셈을 위해서 차원을 변경해줍니다.\n",
    "        hidden_with_time_axis = tf.expand_dims(query, 1)\n",
    "\n",
    "        # score shape == (batch_size, max_length, 1)\n",
    "        # we get 1 at the last axis because we are applying score to self.V\n",
    "        # the shape of the tensor before applying self.V is (batch_size, max_length, units)\n",
    "        score = self.V(tf.nn.tanh(\n",
    "            self.W1(values) + self.W2(hidden_with_time_axis)))\n",
    "\n",
    "        # attention_weights shape == (batch_size, max_length, 1)\n",
    "        attention_weights = tf.nn.softmax(score, axis=1)\n",
    "\n",
    "        # context_vector shape after sum == (batch_size, hidden_size)\n",
    "        context_vector = attention_weights * values\n",
    "        context_vector = tf.reduce_sum(context_vector, axis=1)\n",
    "\n",
    "        return context_vector, attention_weights"
   ]
  },
  {
   "cell_type": "code",
   "execution_count": 25,
   "metadata": {},
   "outputs": [],
   "source": [
    "#X를 tensor에서 array로 수정함\n",
    "X, y = toTensor(20, data.cleanText), data['isSpam']\n",
    "X_train, X_test, y_train, y_test = train_test_split(np.array(X), y, random_state=0, stratify=y, test_size=0.1)"
   ]
  },
  {
   "cell_type": "code",
   "execution_count": 26,
   "metadata": {},
   "outputs": [],
   "source": [
    "def attentionEval(X_test, y_test, k=40, max_len = 20, vocab_size = 2000, epochs=10, show_progress=0, graph=False, heatmap=False):\n",
    "        \n",
    "    #입력층과 임베딩층 설계\n",
    "    sequence_input = Input(shape=(max_len,), dtype='int32')\n",
    "    embedded_sequences = Embedding(vocab_size, 128, input_length=max_len, mask_zero = True)(sequence_input)\n",
    "    \n",
    "    #양방향 LSTM 설계\n",
    "    lstm = Bidirectional(LSTM(64, dropout=0.5, return_sequences = True))(embedded_sequences) #첫번째 층\n",
    "    lstm, forward_h, forward_c, backward_h, backward_c = Bidirectional(\n",
    "        LSTM(64, dropout=0.5, return_sequences=True, return_state=True))(lstm) #두번째 층\n",
    "    \n",
    "    #순방향&역방향 LSTM 연결해주기(concatenate)\n",
    "    state_h = Concatenate()([forward_h, backward_h]) # 은닉 상태\n",
    "    state_c = Concatenate()([forward_c, backward_c]) # 셀 상태\n",
    "    \n",
    "    #Attention 모델 사용\n",
    "    attention = BahdanauAttention(64) # 가중치 크기 정의\n",
    "    context_vector, attention_weights = attention(lstm, state_h)\n",
    "    \n",
    "    #모델 구성하기\n",
    "    dense1 = Dense(20, activation=\"relu\")(context_vector)\n",
    "    dropout = Dropout(0.5)(dense1)\n",
    "    output = Dense(1, activation=\"sigmoid\")(dropout)\n",
    "    model = Model(inputs=sequence_input, outputs=output)\n",
    "    \n",
    "    #모델 엮기\n",
    "    model.compile(loss='binary_crossentropy', optimizer='adam', metrics=['accuracy', tf.keras.metrics.AUC()]) #accuracy & AUC\n",
    "    \n",
    "    #모델 학습시키기 (show_progress=1이면, 진행상황 보여주기)\n",
    "    history = model.fit(X_train, y_train, epochs = epochs, batch_size = 256, validation_data=(X_test, y_test), verbose=show_progress)\n",
    "    \n",
    "    #40개의 Test sample 추출하기\n",
    "    idx = random.sample(range(len(y_test)), k=k)\n",
    "    sample_X = X_test[idx]\n",
    "    sample_y = np.array(y_test)[idx]\n",
    "\n",
    "    #평가하기\n",
    "    accuracy, auc = model.evaluate(X_test, y_test, verbose=show_progress)[1:3]\n",
    "    sample_accuracy, sample_auc = model.evaluate(sample_X, sample_y, verbose=show_progress)[1:3]\n",
    "    \n",
    "    print('< Attention >')\n",
    "    print(\"Accuracy:\", accuracy)\n",
    "    print(\"AUC:\", auc)\n",
    "    print('\\n')\n",
    "    print('40개 Sample Accuracy:', sample_accuracy)\n",
    "    print('40개 Sample AUC', sample_auc)\n",
    "    \n",
    "    if graph == True:\n",
    "        epochs_ = [i for i in range(epochs)]\n",
    "        train_acc = history.history['accuracy']\n",
    "        train_loss = history.history['loss']\n",
    "        val_acc = history.history['val_accuracy']\n",
    "        val_loss = history.history['val_loss']\n",
    "\n",
    "        fig , ax = plt.subplots(1,2)\n",
    "        fig.set_size_inches(20,10)\n",
    "        ax[0].plot(epochs_ , train_acc , 'go-' , label = 'Training Accuracy')\n",
    "        ax[0].plot(epochs_ , val_acc , 'ro-' , label = 'Testing Accuracy')\n",
    "        ax[0].set_title('Training & Testing Accuracy')\n",
    "        ax[0].legend()\n",
    "        ax[0].set_xlabel(\"Epochs\")\n",
    "        ax[0].set_ylabel(\"Accuracy\")\n",
    "\n",
    "        ax[1].plot(epochs_ , train_loss , 'go-' , label = 'Training Loss')\n",
    "        ax[1].plot(epochs_ , val_loss , 'ro-' , label = 'Testing Loss')\n",
    "        ax[1].set_title('Training & Testing Loss')\n",
    "        ax[1].legend()\n",
    "        ax[1].set_xlabel(\"Epochs\")\n",
    "        ax[1].set_ylabel(\"Loss\")\n",
    "        plt.show()\n",
    "    \n",
    "    if heatmap == True:\n",
    "        pred_tmp = model.predict(X_test)\n",
    "        pred = []\n",
    "        for i in range(len(pred_tmp)):\n",
    "            pred.append(round(pred_tmp[i][0]))\n",
    "\n",
    "        cm = metrics.confusion_matrix(y_test, pred)\n",
    "        cm = pd.DataFrame(cm, index = ['Not Spam','Spam'], columns = ['Not Spam','Spam'])\n",
    "        plt.figure(figsize = (10,10))\n",
    "        sns.heatmap(cm,cmap= \"Blues\", linecolor = 'black' , linewidth = 1 , annot = True,\n",
    "                    fmt='' , xticklabels = ['Not Spam','Spam'] , yticklabels = ['Not Spam','Spam'])\n",
    "        plt.show()"
   ]
  },
  {
   "cell_type": "code",
   "execution_count": 27,
   "metadata": {
    "scrolled": false
   },
   "outputs": [
    {
     "name": "stdout",
     "output_type": "stream",
     "text": [
      "< Attention >\n",
      "Accuracy: 0.9749103784561157\n",
      "AUC: 0.9669564366340637\n",
      "\n",
      "\n",
      "40개 Sample Accuracy: 0.9750000238418579\n",
      "40개 Sample AUC 1.0\n"
     ]
    },
    {
     "data": {
      "image/png": "[encoded data removed]",
      "text/plain": [
       "<Figure size 1440x720 with 2 Axes>"
      ]
     },
     "metadata": {
      "needs_background": "light"
     },
     "output_type": "display_data"
    },
    {
     "data": {
      "image/png": "[encoded data removed]",
      "text/plain": [
       "<Figure size 720x720 with 2 Axes>"
      ]
     },
     "metadata": {
      "needs_background": "light"
     },
     "output_type": "display_data"
    }
   ],
   "source": [
    "attentionEval(X_test, y_test, graph=True, heatmap=True)"
   ]
  }
 ],
 "metadata": {
  "kernelspec": {
   "display_name": "Python 3",
   "language": "python",
   "name": "python3"
  },
  "language_info": {
   "codemirror_mode": {
    "name": "ipython",
    "version": 3
   },
   "file_extension": ".py",
   "mimetype": "text/x-python",
   "name": "python",
   "nbconvert_exporter": "python",
   "pygments_lexer": "ipython3",
   "version": "3.8.3"
  }
 },
 "nbformat": 4,
 "nbformat_minor": 4
}
